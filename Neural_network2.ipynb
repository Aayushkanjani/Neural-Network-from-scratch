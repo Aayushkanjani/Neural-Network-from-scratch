{
  "cells": [
    {
      "cell_type": "markdown",
      "metadata": {
        "id": "faVWrH6Zoq2Q"
      },
      "source": [
        "# Neural Network from scratch without using Pytorch,Tensorflow or Keras"
      ]
    },
    {
      "cell_type": "code",
      "execution_count": null,
      "metadata": {
        "id": "ZPNmlWu2oq2S"
      },
      "outputs": [],
      "source": [
        "import numpy as np\n",
        "import pandas as pd\n",
        "import matplotlib.pyplot as plt"
      ]
    },
    {
      "cell_type": "markdown",
      "metadata": {
        "id": "eIi_tehnoq2T"
      },
      "source": [
        "### Reading the input data"
      ]
    },
    {
      "cell_type": "code",
      "execution_count": null,
      "metadata": {
        "id": "wC0hOS1qoq2T"
      },
      "outputs": [],
      "source": [
        "data=pd.read_csv('train.csv')\n",
        "test_data=pd.read_csv('test.csv')"
      ]
    },
    {
      "cell_type": "code",
      "execution_count": null,
      "metadata": {
        "id": "X8NxYjZDoq2U"
      },
      "outputs": [],
      "source": [
        "# Loading the dataset\n",
        "data=np.array(data)\n",
        "m,n=data.shape\n",
        "np.random.shuffle(data)\n",
        "\n",
        "\n",
        "data_train=data.T\n",
        "Y_train=data_train[0]\n",
        "X_train=data_train[1:]\n",
        "# Dividing by 255 so that the pixels would contain values in the range 0 to 1\n",
        "X_train=X_train/255\n",
        "Y_train=Y_train/255"
      ]
    },
    {
      "cell_type": "code",
      "execution_count": null,
      "metadata": {
        "id": "E72cAXxSoq2U"
      },
      "outputs": [],
      "source": [
        "# We take 784 inputs in input layer, 10 nuerons in hidden layer 1 and 10 neurons in output layer\n",
        "def init_params():\n",
        "    W1=np.random.normal(size=(10, 784)) * np.sqrt(1./(784))\n",
        "    b1=np.random.normal(size=(10, 1)) * np.sqrt(1./10)\n",
        "    W2=np.random.normal(size=(10, 10)) * np.sqrt(1./20)\n",
        "    b2=np.random.normal(size=(10, 1)) * np.sqrt(1./(784))\n",
        "    return W1,b1,W2,b2"
      ]
    },
    {
      "cell_type": "code",
      "execution_count": null,
      "metadata": {
        "id": "tAAZquEioq2U"
      },
      "outputs": [],
      "source": [
        "# Activation function\n",
        "def ReLU(x):\n",
        "    return np.maximum(0,x)"
      ]
    },
    {
      "cell_type": "code",
      "execution_count": null,
      "metadata": {
        "id": "0Xc-N-2Coq2V"
      },
      "outputs": [],
      "source": [
        "# Activation function\n",
        "def Softmax(Z):\n",
        "    Z-=np.max(Z, axis=0)  # Subtract max value for numerical stability\n",
        "    A=np.exp(Z) / np.sum(np.exp(Z), axis=0)\n",
        "    return A"
      ]
    },
    {
      "cell_type": "code",
      "execution_count": null,
      "metadata": {
        "id": "EIpZ7hgeoq2V"
      },
      "outputs": [],
      "source": [
        "# Function for forward propagation with inputs as weights and biases for hidden layer 1 and output layer\n",
        "def forward_prop(W1,b1,W2,b2,X):\n",
        "    Z1=W1.dot(X)+b1\n",
        "    A1=ReLU(Z1)\n",
        "    Z2=W2.dot(A1)+b2\n",
        "    A2=Softmax(Z2)\n",
        "    return Z1,A1,Z2,A2"
      ]
    },
    {
      "cell_type": "code",
      "execution_count": null,
      "metadata": {
        "id": "DmZzWJz_oq2V"
      },
      "outputs": [],
      "source": [
        "# Derivative of the activation function. We will need while back-propagating\n",
        "def ReLU_derivative(x):\n",
        "    return x>0"
      ]
    },
    {
      "cell_type": "code",
      "execution_count": null,
      "metadata": {
        "id": "XQG34mgNoq2V"
      },
      "outputs": [],
      "source": [
        "def one_hot(Y):\n",
        "    one_hot_Y=np.zeros((Y.size, Y.max() + 1))\n",
        "    one_hot_Y[np.arange(Y.size), Y]=1\n",
        "    one_hot_Y=one_hot_Y.T\n",
        "    return one_hot_Y"
      ]
    },
    {
      "cell_type": "code",
      "execution_count": null,
      "metadata": {
        "id": "d8_m2Cpboq2V"
      },
      "outputs": [],
      "source": [
        "def backward_prop(Z1,A1,Z2,A2,W1,W2,X,Y):\n",
        "    one_hot_Y=one_hot(Y)\n",
        "    dZ2=A2-one_hot_Y\n",
        "    dW2=1/m*dZ2.dot(A1.T)\n",
        "    db2=1/m*np.sum(dZ2)\n",
        "    dZ1=W2.T.dot(dZ2) * ReLU_derivative(Z1)\n",
        "    dW1=1/m*dZ1.dot(X.T)\n",
        "    db1=1/m*np.sum(dZ1)\n",
        "    return dW1,db1,dW2,db2"
      ]
    },
    {
      "cell_type": "code",
      "execution_count": null,
      "metadata": {
        "id": "dMkIqhW7oq2W"
      },
      "outputs": [],
      "source": [
        "# let alpha be the learning rate\n",
        "# updating the weights\n",
        "\n",
        "def update_params(W1,b1,W2,b2,dW1,db1,dW2,db2,alpha):\n",
        "    W1=W1-alpha*dW1\n",
        "    b1=b1-alpha*db1\n",
        "    W2=W2-alpha*dW2\n",
        "    b2=b2-alpha*db2\n",
        "    return W1,b1,W2,b2"
      ]
    },
    {
      "cell_type": "code",
      "execution_count": null,
      "metadata": {
        "id": "6J9ByRvYoq2W"
      },
      "outputs": [],
      "source": [
        "def get_predictions(A2):\n",
        "    return np.argmax(A2,0)\n",
        "\n",
        "def get_accuracy(prediction,x):\n",
        "    print(prediction,x)\n",
        "    return (np.sum(prediction==x)/x.size)"
      ]
    },
    {
      "cell_type": "code",
      "execution_count": null,
      "metadata": {
        "id": "0kYM6RN4oq2W"
      },
      "outputs": [],
      "source": [
        "def gradient_descent(X,Y,alpha,iterations):\n",
        "    W1,b1,W2,b2=init_params()\n",
        "    for i in range(iterations):\n",
        "        Z1,A1,Z2,A2=forward_prop(W1,b1,W2,b2,X)\n",
        "        dW1,db1,dW2,db2=backward_prop(Z1,A1,Z2,A2,W1,W2,X,Y)\n",
        "        W1,b1,W2,b2=update_params(W1,b1,W2,b2,dW1,db1,dW2,db2,alpha)\n",
        "        if i%10==0:\n",
        "            print(\"Iteration: \",i)\n",
        "            predictions=get_predictions(A2)\n",
        "            print(get_accuracy(predictions, Y))\n",
        "    return W1,b1,W2,b2"
      ]
    },
    {
      "cell_type": "code",
      "execution_count": null,
      "metadata": {
        "id": "DxIyh1Yioq2W",
        "outputId": "fb79a4e1-365c-4c61-cd6d-fb4e8f7fba58"
      },
      "outputs": [
        {
          "name": "stdout",
          "output_type": "stream",
          "text": [
            "Iteration:  0\n",
            "[5 5 1 ... 3 5 5] [9 0 3 ... 1 4 6]\n",
            "0.10680487804878049\n",
            "Iteration:  10\n",
            "[5 3 2 ... 3 2 6] [9 0 3 ... 1 4 6]\n",
            "0.18795121951219512\n",
            "Iteration:  20\n",
            "[5 3 2 ... 2 9 6] [9 0 3 ... 1 4 6]\n",
            "0.3805121951219512\n",
            "Iteration:  30\n",
            "[5 3 3 ... 1 9 6] [9 0 3 ... 1 4 6]\n",
            "0.5393902439024391\n",
            "Iteration:  40\n",
            "[5 3 3 ... 1 9 6] [9 0 3 ... 1 4 6]\n",
            "0.6369756097560976\n",
            "Iteration:  50\n",
            "[5 3 3 ... 1 9 6] [9 0 3 ... 1 4 6]\n",
            "0.6933658536585365\n",
            "Iteration:  60\n",
            "[5 3 3 ... 1 9 6] [9 0 3 ... 1 4 6]\n",
            "0.7404146341463415\n",
            "Iteration:  70\n",
            "[9 3 3 ... 1 9 6] [9 0 3 ... 1 4 6]\n",
            "0.7739024390243903\n",
            "Iteration:  80\n",
            "[9 3 3 ... 1 6 6] [9 0 3 ... 1 4 6]\n",
            "0.7953658536585366\n",
            "Iteration:  90\n",
            "[9 3 3 ... 1 6 6] [9 0 3 ... 1 4 6]\n",
            "0.8108536585365854\n",
            "Iteration:  100\n",
            "[9 3 3 ... 1 6 6] [9 0 3 ... 1 4 6]\n",
            "0.8225853658536585\n",
            "Iteration:  110\n",
            "[9 3 3 ... 1 4 6] [9 0 3 ... 1 4 6]\n",
            "0.8324634146341463\n",
            "Iteration:  120\n",
            "[9 3 3 ... 1 4 6] [9 0 3 ... 1 4 6]\n",
            "0.8413414634146341\n",
            "Iteration:  130\n",
            "[9 3 3 ... 1 4 6] [9 0 3 ... 1 4 6]\n",
            "0.8483414634146341\n",
            "Iteration:  140\n",
            "[9 3 3 ... 1 4 6] [9 0 3 ... 1 4 6]\n",
            "0.8545121951219512\n",
            "Iteration:  150\n",
            "[9 3 3 ... 1 4 6] [9 0 3 ... 1 4 6]\n",
            "0.86\n",
            "Iteration:  160\n",
            "[9 3 3 ... 1 4 6] [9 0 3 ... 1 4 6]\n",
            "0.8652926829268293\n",
            "Iteration:  170\n",
            "[9 3 3 ... 1 4 6] [9 0 3 ... 1 4 6]\n",
            "0.868780487804878\n",
            "Iteration:  180\n",
            "[9 3 3 ... 1 4 6] [9 0 3 ... 1 4 6]\n",
            "0.872219512195122\n",
            "Iteration:  190\n",
            "[9 3 3 ... 1 4 6] [9 0 3 ... 1 4 6]\n",
            "0.8752439024390244\n",
            "Iteration:  200\n",
            "[9 3 3 ... 1 4 6] [9 0 3 ... 1 4 6]\n",
            "0.878\n",
            "Iteration:  210\n",
            "[9 3 3 ... 1 4 6] [9 0 3 ... 1 4 6]\n",
            "0.8809512195121951\n",
            "Iteration:  220\n",
            "[9 3 3 ... 1 4 6] [9 0 3 ... 1 4 6]\n",
            "0.8829024390243903\n",
            "Iteration:  230\n",
            "[9 3 3 ... 1 4 6] [9 0 3 ... 1 4 6]\n",
            "0.8853414634146342\n",
            "Iteration:  240\n",
            "[9 3 3 ... 1 4 6] [9 0 3 ... 1 4 6]\n",
            "0.8871219512195122\n",
            "Iteration:  250\n",
            "[9 3 3 ... 1 4 6] [9 0 3 ... 1 4 6]\n",
            "0.8891951219512195\n",
            "Iteration:  260\n",
            "[9 3 3 ... 1 4 6] [9 0 3 ... 1 4 6]\n",
            "0.8904878048780488\n",
            "Iteration:  270\n",
            "[9 3 3 ... 1 4 6] [9 0 3 ... 1 4 6]\n",
            "0.8916585365853659\n",
            "Iteration:  280\n",
            "[9 3 3 ... 1 4 6] [9 0 3 ... 1 4 6]\n",
            "0.8929268292682927\n",
            "Iteration:  290\n",
            "[9 3 3 ... 1 4 6] [9 0 3 ... 1 4 6]\n",
            "0.8941951219512195\n",
            "Iteration:  300\n",
            "[9 3 3 ... 1 4 6] [9 0 3 ... 1 4 6]\n",
            "0.8955609756097561\n",
            "Iteration:  310\n",
            "[9 3 3 ... 1 4 6] [9 0 3 ... 1 4 6]\n",
            "0.8964146341463415\n",
            "Iteration:  320\n",
            "[9 3 3 ... 1 4 6] [9 0 3 ... 1 4 6]\n",
            "0.8974390243902439\n",
            "Iteration:  330\n",
            "[9 3 3 ... 1 4 6] [9 0 3 ... 1 4 6]\n",
            "0.8982682926829268\n",
            "Iteration:  340\n",
            "[9 3 3 ... 1 4 6] [9 0 3 ... 1 4 6]\n",
            "0.8993170731707317\n",
            "Iteration:  350\n",
            "[9 3 3 ... 1 4 6] [9 0 3 ... 1 4 6]\n",
            "0.9002439024390244\n",
            "Iteration:  360\n",
            "[9 3 3 ... 1 4 6] [9 0 3 ... 1 4 6]\n",
            "0.9010975609756098\n",
            "Iteration:  370\n",
            "[9 3 3 ... 1 4 6] [9 0 3 ... 1 4 6]\n",
            "0.9017804878048781\n",
            "Iteration:  380\n",
            "[9 3 3 ... 1 4 6] [9 0 3 ... 1 4 6]\n",
            "0.9029756097560976\n",
            "Iteration:  390\n",
            "[9 3 3 ... 1 4 6] [9 0 3 ... 1 4 6]\n",
            "0.9037317073170732\n",
            "Iteration:  400\n",
            "[9 3 3 ... 1 4 6] [9 0 3 ... 1 4 6]\n",
            "0.9041707317073171\n",
            "Iteration:  410\n",
            "[9 3 3 ... 1 4 6] [9 0 3 ... 1 4 6]\n",
            "0.9049024390243903\n",
            "Iteration:  420\n",
            "[9 3 3 ... 1 4 6] [9 0 3 ... 1 4 6]\n",
            "0.9055121951219512\n",
            "Iteration:  430\n",
            "[9 3 3 ... 1 4 6] [9 0 3 ... 1 4 6]\n",
            "0.9060975609756098\n",
            "Iteration:  440\n",
            "[9 3 3 ... 1 4 6] [9 0 3 ... 1 4 6]\n",
            "0.9064390243902439\n",
            "Iteration:  450\n",
            "[9 3 3 ... 1 4 6] [9 0 3 ... 1 4 6]\n",
            "0.9070243902439025\n",
            "Iteration:  460\n",
            "[9 3 3 ... 1 4 6] [9 0 3 ... 1 4 6]\n",
            "0.9075121951219512\n",
            "Iteration:  470\n",
            "[9 3 3 ... 1 4 6] [9 0 3 ... 1 4 6]\n",
            "0.9080487804878049\n",
            "Iteration:  480\n",
            "[9 3 3 ... 1 4 6] [9 0 3 ... 1 4 6]\n",
            "0.9086829268292683\n",
            "Iteration:  490\n",
            "[9 3 3 ... 1 4 6] [9 0 3 ... 1 4 6]\n",
            "0.9090975609756098\n"
          ]
        }
      ],
      "source": [
        "W1,b1,W2,b2=gradient_descent(X_train,Y_train,0.10,500)"
      ]
    },
    {
      "cell_type": "code",
      "execution_count": null,
      "metadata": {
        "id": "JYcHtgWFoq2X"
      },
      "outputs": [],
      "source": [
        "def make_predictions(X,W1,b1,W2,b2):\n",
        "    A,B,C,A2=forward_prop(W1,b1,W2,b2,X)\n",
        "    predictions=get_predictions(A2)\n",
        "    return predictions\n",
        "\n",
        "def test_prediction(index,W1,b1,W2,b2):\n",
        "    current_image=X_train[:,index,None]\n",
        "    prediction=make_predictions(X_train[:, index, None],W1,b1,W2,b2)\n",
        "    label=Y_train[index]\n",
        "    print(\"Prediction: \",prediction)\n",
        "    print(\"Label: \", label)\n",
        "\n",
        "\n",
        "    #Again reconverting the image in the form of 28*28 grid\n",
        "    current_image=current_image.reshape((28, 28))*255\n",
        "    plt.gray()\n",
        "    plt.imshow(current_image, interpolation='nearest')\n",
        "    plt.show()"
      ]
    },
    {
      "cell_type": "code",
      "execution_count": null,
      "metadata": {
        "id": "ngiszDAHoq2Y",
        "outputId": "0d00e50e-3c45-48a3-ff7c-44795274e54d"
      },
      "outputs": [
        {
          "name": "stdout",
          "output_type": "stream",
          "text": [
            "Prediction:  [9]\n",
            "Label:  9\n"
          ]
        },
        {
          "data": {
            "image/png": "[encoded data removed]",
            "text/plain": [
              "<Figure size 640x480 with 1 Axes>"
            ]
          },
          "metadata": {},
          "output_type": "display_data"
        },
        {
          "name": "stdout",
          "output_type": "stream",
          "text": [
            "Prediction:  [7]\n",
            "Label:  7\n"
          ]
        },
        {
          "data": {
            "image/png": "[encoded data removed]",
            "text/plain": [
              "<Figure size 640x480 with 1 Axes>"
            ]
          },
          "metadata": {},
          "output_type": "display_data"
        },
        {
          "name": "stdout",
          "output_type": "stream",
          "text": [
            "Prediction:  [0]\n",
            "Label:  0\n"
          ]
        },
        {
          "data": {
            "image/png": "[encoded data removed]",
            "text/plain": [
              "<Figure size 640x480 with 1 Axes>"
            ]
          },
          "metadata": {},
          "output_type": "display_data"
        },
        {
          "name": "stdout",
          "output_type": "stream",
          "text": [
            "Prediction:  [5]\n",
            "Label:  5\n"
          ]
        },
        {
          "data": {
            "image/png": "[encoded data removed]",
            "text/plain": [
              "<Figure size 640x480 with 1 Axes>"
            ]
          },
          "metadata": {},
          "output_type": "display_data"
        }
      ],
      "source": [
        "test_prediction(0,W1,b1,W2,b2)\n",
        "test_prediction(24,W1,b1,W2,b2)\n",
        "test_prediction(8,W1,b1,W2,b2)\n",
        "test_prediction(33,W1,b1,W2,b2)"
      ]
    },
    {
      "cell_type": "code",
      "execution_count": null,
      "metadata": {
        "id": "cPZahnlAoq2Y"
      },
      "outputs": [],
      "source": []
    }
  ],
  "metadata": {
    "kernelspec": {
      "display_name": "base",
      "language": "python",
      "name": "python3"
    },
    "language_info": {
      "codemirror_mode": {
        "name": "ipython",
        "version": 3
      },
      "file_extension": ".py",
      "mimetype": "text/x-python",
      "name": "python",
      "nbconvert_exporter": "python",
      "pygments_lexer": "ipython3",
      "version": "3.11.5"
    },
    "colab": {
      "provenance": []
    }
  },
  "nbformat": 4,
  "nbformat_minor": 0
}